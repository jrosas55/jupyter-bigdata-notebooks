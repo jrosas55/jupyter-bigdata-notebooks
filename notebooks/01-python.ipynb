{
 "cells": [
  {
   "cell_type": "markdown",
   "metadata": {
    "deletable": true,
    "editable": true
   },
   "source": [
    "<img style=\"float: left\"  src=\"images/python.png\">\n",
    "<img style=\"float: right\" src=\"images/surfsara.png\">\n",
    "\n",
    "<hr style=\"clear: both\" />\n",
    "\n",
    "# Python introduction\n",
    "\n",
    "We present a very brief introduction to Python here before we will work with Spark.\n",
    "\n",
    "Python is relatively easy to learn. Of course, you can do complicated things but we focus on the basics here and assume that you have seen similar constructs in other programming languages.\n",
    "\n",
    "We focus on the aspects of the language that are important for working with Spark during the rest of the day. As such, we don't discuss control structures and more complex data types.\n",
    "\n",
    "_You can edit the cells below and execute the code by selecting the cell and press Shift-Enter. Code completion is supported by use of the Tab key._"
   ]
  },
  {
   "cell_type": "markdown",
   "metadata": {
    "deletable": true,
    "editable": true
   },
   "source": [
    "## Variables and dynamic typing\n",
    "In the cell below we assign an integer value to the variable `x`, and perform some calculations:"
   ]
  },
  {
   "cell_type": "code",
   "execution_count": null,
   "metadata": {
    "collapsed": true,
    "deletable": true,
    "editable": true
   },
   "outputs": [],
   "source": [
    "# Assign some value to x and print x\n",
    "\n",
    "x = 123456\n",
    "print(x)\n",
    "\n",
    "# Do some calculations, assign the result to y, and print\n",
    "y = 5 * x / 3.5\n",
    "print(y)"
   ]
  },
  {
   "cell_type": "markdown",
   "metadata": {
    "deletable": true,
    "editable": true
   },
   "source": [
    "Each variable in Python is an object, and each object has a type. We can get the types of `x` and `y` and print them:"
   ]
  },
  {
   "cell_type": "code",
   "execution_count": null,
   "metadata": {
    "collapsed": true,
    "deletable": true,
    "editable": true
   },
   "outputs": [],
   "source": [
    "print(type(x))\n",
    "print(type(y))"
   ]
  },
  {
   "cell_type": "markdown",
   "metadata": {
    "deletable": true,
    "editable": true
   },
   "source": [
    "As you can see, you do not explicitly have to specify the type of the variable. Python will automatically infer that the value assigned to `x` is an integer, and that the result of the expression assigned to `y` will be a floating point value."
   ]
  },
  {
   "cell_type": "markdown",
   "metadata": {
    "deletable": true,
    "editable": true
   },
   "source": [
    "Because Python is _dynamically typed_ we can also assign to the same variable a value of a different type:"
   ]
  },
  {
   "cell_type": "code",
   "execution_count": null,
   "metadata": {
    "collapsed": true,
    "deletable": true,
    "editable": true
   },
   "outputs": [],
   "source": [
    "y = 78\n",
    "print(type(y))"
   ]
  },
  {
   "cell_type": "markdown",
   "metadata": {
    "deletable": true,
    "editable": true
   },
   "source": [
    "## Strings"
   ]
  },
  {
   "cell_type": "markdown",
   "metadata": {
    "deletable": true,
    "editable": true
   },
   "source": [
    "Next we assign a string to the variable `s`. Strings can be thought of as sequences of characters. We can access invidual characters of the string with their index, a technique called _slicing_:"
   ]
  },
  {
   "cell_type": "code",
   "execution_count": null,
   "metadata": {
    "collapsed": true,
    "deletable": true,
    "editable": true
   },
   "outputs": [],
   "source": [
    "# Assign s to a string, using single quotes (or double quotes)\n",
    "s = 'abcdABCD'\n",
    "\n",
    "# Print the first letter of s - remember, Python starts counting at 0, not 1!\n",
    "print(s[0])\n",
    "\n",
    "# Print the third letter of s\n",
    "print(s[2])"
   ]
  },
  {
   "cell_type": "markdown",
   "metadata": {
    "deletable": true,
    "editable": true
   },
   "source": [
    "So far, our slices have been limited to single characters. We can extract substrings of `s` by specifying a range:"
   ]
  },
  {
   "cell_type": "code",
   "execution_count": null,
   "metadata": {
    "collapsed": true,
    "deletable": true,
    "editable": true
   },
   "outputs": [],
   "source": [
    "# Slice of s from offsets 1 through 2 (3 not included)\n",
    "print(s[1:3])\n",
    "\n",
    "# Slice of the first four characters. Note that we don't need to specify start index in the range\n",
    "print(s[:4])\n",
    "\n",
    "# Slice from characters 5 till 8. Note that we don't need to specify the end index in the range\n",
    "print(s[4:])"
   ]
  },
  {
   "cell_type": "markdown",
   "metadata": {
    "deletable": true,
    "editable": true
   },
   "source": [
    "We can use negative indices to slice from the end of the string (or any sequence, as we'll see later):"
   ]
  },
  {
   "cell_type": "code",
   "execution_count": null,
   "metadata": {
    "collapsed": true,
    "deletable": true,
    "editable": true
   },
   "outputs": [],
   "source": [
    "# Last letter of s\n",
    "print(s[-1])\n",
    "\n",
    "# Last three letters of s\n",
    "print(s[-3:])"
   ]
  },
  {
   "cell_type": "markdown",
   "metadata": {
    "deletable": true,
    "editable": true
   },
   "source": [
    "## Exercise 1\n",
    "In this exercise, please print all characters of `s`, except the last letter. Part of the code has already been filled in, and you will need to replace `<FILL IN>` with the appropriate statement:"
   ]
  },
  {
   "cell_type": "code",
   "execution_count": null,
   "metadata": {
    "collapsed": true,
    "deletable": true,
    "editable": true
   },
   "outputs": [],
   "source": [
    "# Print s, except the last letter\n",
    "print(<FILL IN>)"
   ]
  },
  {
   "cell_type": "markdown",
   "metadata": {
    "deletable": true,
    "editable": true
   },
   "source": [
    "We can find the length of a string with Python's `len` function:"
   ]
  },
  {
   "cell_type": "code",
   "execution_count": null,
   "metadata": {
    "collapsed": true,
    "deletable": true,
    "editable": true
   },
   "outputs": [],
   "source": [
    "length = len(s)\n",
    "print(length)"
   ]
  },
  {
   "cell_type": "markdown",
   "metadata": {
    "deletable": true,
    "editable": true
   },
   "source": [
    "Strings (and lists, as we'll see) can be concatenated with the `+` operator:"
   ]
  },
  {
   "cell_type": "code",
   "execution_count": null,
   "metadata": {
    "collapsed": true,
    "deletable": true,
    "editable": true
   },
   "outputs": [],
   "source": [
    "a = 'abcd'\n",
    "b = 'ABCD'\n",
    "c = a + b\n",
    "print(c)"
   ]
  },
  {
   "cell_type": "markdown",
   "metadata": {
    "deletable": true,
    "editable": true
   },
   "source": [
    "If we want to append something to a string that isn't a string itself (for example, an integer), we'll need to convert it to a string first with Python's builting `str` function. If we don't do this, Python will complain:"
   ]
  },
  {
   "cell_type": "code",
   "execution_count": null,
   "metadata": {
    "collapsed": true,
    "deletable": true,
    "editable": true
   },
   "outputs": [],
   "source": [
    "# This will fail. You'll see an exception appear in the notebook.\n",
    "print('abcd' + 8)"
   ]
  },
  {
   "cell_type": "code",
   "execution_count": null,
   "metadata": {
    "collapsed": true,
    "deletable": true,
    "editable": true
   },
   "outputs": [],
   "source": [
    "# Using str, instead:\n",
    "print('abcd' + str(8))"
   ]
  },
  {
   "cell_type": "markdown",
   "metadata": {
    "deletable": true,
    "editable": true
   },
   "source": [
    "## Exercise 2\n",
    "Concatenate the variables `a`, `b` and `c` (in that order) and calculate the resulting length. Print the concatenated result and its length in a single print statement (the output of the `print` function should be a single line)."
   ]
  },
  {
   "cell_type": "code",
   "execution_count": null,
   "metadata": {
    "collapsed": true,
    "deletable": true,
    "editable": true
   },
   "outputs": [],
   "source": [
    "a = 'abcd'\n",
    "b = 8\n",
    "c = 1.4\n",
    "\n",
    "<FILL IN>"
   ]
  },
  {
   "cell_type": "markdown",
   "metadata": {
    "deletable": true,
    "editable": true
   },
   "source": [
    "Everything in Python is an object and every object has a type. We have used the builtin `type` function to find out an object's type in the beginning of the notebook. Each type can have zero or more _methods_, which are functions that are members of this type. To _call_ a method on an object, we use _dot notation_:"
   ]
  },
  {
   "cell_type": "code",
   "execution_count": null,
   "metadata": {
    "collapsed": true,
    "deletable": true,
    "editable": true
   },
   "outputs": [],
   "source": [
    "s = 'this is a sentence'\n",
    "print(s.split())"
   ]
  },
  {
   "cell_type": "code",
   "execution_count": null,
   "metadata": {
    "collapsed": true,
    "deletable": true,
    "editable": true
   },
   "outputs": [],
   "source": [
    "print(s.capitalize())"
   ]
  },
  {
   "cell_type": "markdown",
   "metadata": {
    "deletable": true,
    "editable": true
   },
   "source": [
    "We can use Jupyter's code completion by pressing Tab after the dot. In the cell below, put the cursor behind the dot and press Tab. Then select the `upper` method. What do you think this method does? Make sure you add `()` behind it and execute the cell. All methods end with parentheses - possibly with arguments between the parentheses."
   ]
  },
  {
   "cell_type": "code",
   "execution_count": null,
   "metadata": {
    "collapsed": true,
    "deletable": true,
    "editable": true
   },
   "outputs": [],
   "source": [
    "# Put the cursor behind . then press TAB, select the upper method and add ()\n",
    "\n",
    "s.upper()"
   ]
  },
  {
   "cell_type": "markdown",
   "metadata": {
    "deletable": true,
    "editable": true
   },
   "source": [
    "We used the `split` method on a string as `s.split()`. Suppose we want to split a string on comma, instead of white space. We can provide the character on which to split as an argument to split. The following cell illustrates this."
   ]
  },
  {
   "cell_type": "code",
   "execution_count": null,
   "metadata": {
    "collapsed": true,
    "deletable": true,
    "editable": true
   },
   "outputs": [],
   "source": [
    "s = \"this,is,a,text\"\n",
    "print(s.split(\",\"))"
   ]
  },
  {
   "cell_type": "markdown",
   "metadata": {
    "deletable": true,
    "editable": true
   },
   "source": [
    "Methods are very similar to functions. The most important difference is that they are associated to a class or object (the thing to the left of the dot).\n",
    "\n",
    "One confusing function that is not a method is the len() function. You might expect to get the number of elements in a string by using s.len(), but this will not work in Python:"
   ]
  },
  {
   "cell_type": "code",
   "execution_count": null,
   "metadata": {
    "collapsed": true,
    "deletable": true,
    "editable": true
   },
   "outputs": [],
   "source": [
    "s.len()"
   ]
  },
  {
   "cell_type": "markdown",
   "metadata": {
    "deletable": true,
    "editable": true
   },
   "source": [
    "To get an overview of all methods available on an object, use Python's builtin `help` method with a type:"
   ]
  },
  {
   "cell_type": "code",
   "execution_count": null,
   "metadata": {
    "collapsed": true,
    "deletable": true,
    "editable": true
   },
   "outputs": [],
   "source": [
    "help(str)"
   ]
  },
  {
   "cell_type": "markdown",
   "metadata": {
    "deletable": true,
    "editable": true
   },
   "source": [
    "## Lists\n",
    "Lists are ordered collections that can contain elements of any type. In the example below, we store an integer, a string and a floating point number in a single list. We can use `len` again to get the length of the list:"
   ]
  },
  {
   "cell_type": "code",
   "execution_count": null,
   "metadata": {
    "collapsed": true,
    "deletable": true,
    "editable": true
   },
   "outputs": [],
   "source": [
    "l = [123, 'some string', 1.666]\n",
    "\n",
    "print('the length of l is: ' +  str(len(l)))"
   ]
  },
  {
   "cell_type": "markdown",
   "metadata": {
    "deletable": true,
    "editable": true
   },
   "source": [
    "We create two lists and concatenate them using the `+` operator:"
   ]
  },
  {
   "cell_type": "code",
   "execution_count": null,
   "metadata": {
    "collapsed": true,
    "deletable": true,
    "editable": true
   },
   "outputs": [],
   "source": [
    "l1 = ['a', 'b', 'c']\n",
    "l2 = ['D', 'E', 'F']\n",
    "l3 = l1 + l2\n",
    "\n",
    "print(l3)"
   ]
  },
  {
   "cell_type": "markdown",
   "metadata": {
    "deletable": true,
    "editable": true
   },
   "source": [
    "Lists come with a number of methods, e.g. `append` and `reverse`. Again, since these are methods we will be using `.` (dot) notation to invoke them:"
   ]
  },
  {
   "cell_type": "code",
   "execution_count": null,
   "metadata": {
    "collapsed": true,
    "deletable": true,
    "editable": true
   },
   "outputs": [],
   "source": [
    "print('l3 before reverse: ' + str(l3))\n",
    "\n",
    "l3.reverse()\n",
    "\n",
    "print('l3 after reverse: ' + str(l3))"
   ]
  },
  {
   "cell_type": "markdown",
   "metadata": {
    "deletable": true,
    "editable": true
   },
   "source": [
    "Similarly we can append an element to the end of a list by calling the `append` method:"
   ]
  },
  {
   "cell_type": "code",
   "execution_count": null,
   "metadata": {
    "collapsed": true,
    "deletable": true,
    "editable": true
   },
   "outputs": [],
   "source": [
    "print('l3 before append: ' + str(l3))\n",
    "\n",
    "l3.append('G')\n",
    "\n",
    "print('l3 after append: ' + str(l3))"
   ]
  },
  {
   "cell_type": "markdown",
   "metadata": {
    "deletable": true,
    "editable": true
   },
   "source": [
    "Slicing lists is identical to slicing strings:"
   ]
  },
  {
   "cell_type": "code",
   "execution_count": null,
   "metadata": {
    "collapsed": true,
    "deletable": true,
    "editable": true
   },
   "outputs": [],
   "source": [
    "mylist = ['a', 2.5, 6, 'a word', [6,7,8]]\n",
    "\n",
    "first = mylist[0]\n",
    "print('the first element is: ' + first)\n",
    "\n",
    "# The second letter of s\n",
    "print('the second element is: ' + str(mylist[1]))\n",
    "\n",
    "# Slice of s from offsets 1 through 2 (3 not included)\n",
    "print('the second and third element are: ' + str(mylist[1:3]))\n",
    "\n",
    "# Print last letter of s\n",
    "print('the last element is: ' + str(mylist[-1]))"
   ]
  },
  {
   "cell_type": "markdown",
   "metadata": {
    "deletable": true,
    "editable": true
   },
   "source": [
    "The last element of `mylist` above is itself a list. To select the first element of this list we can do the following:"
   ]
  },
  {
   "cell_type": "code",
   "execution_count": null,
   "metadata": {
    "collapsed": true,
    "deletable": true,
    "editable": true
   },
   "outputs": [],
   "source": [
    "mylist[4][0]"
   ]
  },
  {
   "cell_type": "markdown",
   "metadata": {
    "deletable": true,
    "editable": true
   },
   "source": [
    "## Tuples\n",
    "Tuples are very much like _lists_, except that they are _immutable_, they cannot be changed. Tuples are often denoted by the parentheses `(` and `)`. This can sometimes be confusing to people new to Python. Depending on the context the parentheses can be omitted.\n",
    "\n",
    "Tuples behave very much like lists, as is shown below."
   ]
  },
  {
   "cell_type": "code",
   "execution_count": null,
   "metadata": {
    "collapsed": true,
    "deletable": true,
    "editable": true,
    "scrolled": true
   },
   "outputs": [],
   "source": [
    "my_tuple = (1, 2, 3, 4)\n",
    "\n",
    "print('the length of my_tuple: ' + str(len(my_tuple)))\n",
    "print('the first element of my_tuple: ' + str(my_tuple[0]))"
   ]
  },
  {
   "cell_type": "markdown",
   "metadata": {
    "deletable": true,
    "editable": true
   },
   "source": [
    "Tuples are immutable, so we can not replace existing elements:"
   ]
  },
  {
   "cell_type": "code",
   "execution_count": null,
   "metadata": {
    "collapsed": true,
    "deletable": true,
    "editable": true
   },
   "outputs": [],
   "source": [
    "my_tuple[2] = 9"
   ]
  },
  {
   "cell_type": "markdown",
   "metadata": {
    "deletable": true,
    "editable": true
   },
   "source": [
    "Tuples also lack the `append` method to add elements:"
   ]
  },
  {
   "cell_type": "code",
   "execution_count": null,
   "metadata": {
    "collapsed": true,
    "deletable": true,
    "editable": true
   },
   "outputs": [],
   "source": [
    "my_tuple.append(5)"
   ]
  },
  {
   "cell_type": "markdown",
   "metadata": {
    "deletable": true,
    "editable": true
   },
   "source": [
    "We can build lists where the list elements are tuples and select them on basis of their index. Note that lists and tuples both can contain elements of various types."
   ]
  },
  {
   "cell_type": "code",
   "execution_count": null,
   "metadata": {
    "collapsed": true,
    "deletable": true,
    "editable": true
   },
   "outputs": [],
   "source": [
    "# A list of tuples\n",
    "tuple_list = [('a', 'b'), (3, 4), ('Z', 42)]\n",
    "\n",
    "# Select the first tuple in the list\n",
    "print('the first tuple is: ' + str(tuple_list[0]))"
   ]
  },
  {
   "cell_type": "code",
   "execution_count": null,
   "metadata": {
    "collapsed": true,
    "deletable": true,
    "editable": true
   },
   "outputs": [],
   "source": [
    "# Select the first element of the first tuple of the list\n",
    "print('the first element of the first tuple is: ' + tuple_list[0][0] )"
   ]
  },
  {
   "cell_type": "markdown",
   "metadata": {
    "deletable": true,
    "editable": true
   },
   "source": [
    "## Exercise 3\n",
    "Given `tuple_list` as defined in the previous cell, print the second element of the third tuple in the list.\n",
    "The answer should be 'right'."
   ]
  },
  {
   "cell_type": "code",
   "execution_count": null,
   "metadata": {
    "collapsed": true,
    "deletable": true,
    "editable": true
   },
   "outputs": [],
   "source": [
    "# Print the second element of the third tuple\n",
    "print(<FILL IN>)"
   ]
  },
  {
   "cell_type": "markdown",
   "metadata": {
    "deletable": true,
    "editable": true
   },
   "source": [
    "## Functions\n",
    "You can define functions in Python, similar to other languages. We assume you are familiar with the concept of a function in programming languages. You define a function by using the `def` keyword and a name for the function, followed by arguments in parentheses and `:`. The keyword `return` is used to return the value.\n",
    "\n",
    "In the cell below we define a function that we call `times`. It has two arguments and returns the product of these arguments."
   ]
  },
  {
   "cell_type": "code",
   "execution_count": null,
   "metadata": {
    "collapsed": true,
    "deletable": true,
    "editable": true
   },
   "outputs": [],
   "source": [
    "# We define a function called times, which takes two integers and returns their product\n",
    "def times(x, y):\n",
    "    return x * y\n",
    "\n",
    "p = times(3, 2)\n",
    "\n",
    "print('the product of 3 and 2 is: ' + str(p))"
   ]
  },
  {
   "cell_type": "markdown",
   "metadata": {
    "deletable": true,
    "editable": true
   },
   "source": [
    "Below we show another example of a function. We call it `plural` and assume that the input argument is a string.\n",
    "In the body (the code after `:`) we add an `s` after the input argument `x`. The result is stored in the variable `y` and returned by the function."
   ]
  },
  {
   "cell_type": "code",
   "execution_count": null,
   "metadata": {
    "collapsed": true,
    "deletable": true,
    "editable": true
   },
   "outputs": [],
   "source": [
    "def plural(x):\n",
    "    y = x + 's'\n",
    "    return y\n",
    "\n",
    "plural('cat')"
   ]
  },
  {
   "cell_type": "markdown",
   "metadata": {
    "deletable": true,
    "editable": true
   },
   "source": [
    "### Built-in functions\n",
    "You have seen how you can define and call your own functions. Python comes with a number of predefined functions, called builtin functions. We have already seen three of them, namely the `print()`, `len()` and `type()` functions."
   ]
  },
  {
   "cell_type": "markdown",
   "metadata": {
    "deletable": true,
    "editable": true
   },
   "source": [
    "## Exercise 4\n",
    "Write a function that takes a tuple and returns the first and last element of the tuple:"
   ]
  },
  {
   "cell_type": "code",
   "execution_count": null,
   "metadata": {
    "collapsed": true,
    "deletable": true,
    "editable": true
   },
   "outputs": [],
   "source": [
    "def first_and_last(t):\n",
    "    <FILL IN>\n",
    "    \n",
    "first_and_last((1, 2, 3))  # Should return (1, 3)"
   ]
  },
  {
   "cell_type": "markdown",
   "metadata": {
    "deletable": true,
    "editable": true
   },
   "source": [
    "## Exercise 5\n",
    "Write a function that takes a list and returns the number of `1`s in the list. **Hint**: use Python's `help` function to see the list of methods the list type has. You'll need to use one of them."
   ]
  },
  {
   "cell_type": "code",
   "execution_count": null,
   "metadata": {
    "collapsed": true,
    "deletable": true,
    "editable": true
   },
   "outputs": [],
   "source": [
    "def count_ones(l):\n",
    "    <FILL IN>\n",
    "    \n",
    "count_ones([1, 1, 2, 3, 4, 1])  # Should return 3"
   ]
  },
  {
   "cell_type": "markdown",
   "metadata": {
    "deletable": true,
    "editable": true
   },
   "source": [
    "## Lambda functions\n",
    "There is another way of defining functions, called _lambda_ or _anonymous_ functions. The term lambda comes from the field of lambda calculus, which is a branch of mathematics specialised in the logic of computation. Lambda functions play a large role in functional programming languages, and we will use them frequently when working with Spark.\n",
    "\n",
    "Both MapReduce and Spark have taken their inspiration from functional programming and hence understanding lambda functions will help you to understand MapReduce and Spark.\n",
    "\n",
    "Lambda functions are anonymous functions, that is, functions without a name. The keyword `lambda` simply denotes that a function is defined. What follows is a function statement, a single statement only, and no return statement.\n",
    "\n",
    "Finally, both lambda functions and functions specified by `def` can be assigned to a variable, which then is used as the name of the function.\n",
    "\n",
    "Let's look at an example:"
   ]
  },
  {
   "cell_type": "code",
   "execution_count": null,
   "metadata": {
    "collapsed": true,
    "deletable": true,
    "editable": true
   },
   "outputs": [],
   "source": [
    "# This lambda function has two arguments x and y which are multiplied\n",
    "#  Note that there is no return statement and that the function is assigned to the variable l_times\n",
    "#  The : separates the arguments from the body of the function\n",
    "l_times = lambda x, y: x * y\n",
    "\n",
    "# Next we call the function by using the variable as a function\n",
    "result = l_times(2, 3)\n",
    "\n",
    "print('the product of 2 and 3 is: ' + str(result))"
   ]
  },
  {
   "cell_type": "markdown",
   "metadata": {
    "collapsed": true,
    "deletable": true,
    "editable": true
   },
   "source": [
    "## Exercise 6\n",
    "Write a lambda function that adds two numbers. Then execute the function on the integers 7 and 9 and print the result."
   ]
  },
  {
   "cell_type": "code",
   "execution_count": null,
   "metadata": {
    "collapsed": true,
    "deletable": true,
    "editable": true
   },
   "outputs": [],
   "source": [
    "# TODO: Replace <FILL IN> with appropriate code\n",
    "\n",
    "# A lambda function to add two numbers\n",
    "my_add = lambda <FILL_IN>\n",
    "\n",
    "# Add two numbers using the function just defined\n",
    "result = <FILL IN>\n",
    "\n",
    "print(result)"
   ]
  },
  {
   "cell_type": "markdown",
   "metadata": {
    "deletable": true,
    "editable": true
   },
   "source": [
    "## Exercise 7\n",
    "Write a lambda function that is equivalent to the `plural` function above."
   ]
  },
  {
   "cell_type": "code",
   "execution_count": null,
   "metadata": {
    "collapsed": true,
    "deletable": true,
    "editable": true
   },
   "outputs": [],
   "source": [
    "# TODO: Replace <FILL IN> with appropriate code\n",
    "\n",
    "# A lambda function to add `s` to a string\n",
    "plural = lambda <FILL IN>\n",
    "result = plural('cat')\n",
    "\n",
    "# Should print 'cats'\n",
    "\n",
    "print(result)"
   ]
  },
  {
   "cell_type": "markdown",
   "metadata": {
    "deletable": true,
    "editable": true
   },
   "source": [
    "Suppose we want to write a lambda function with a single argument that for a tuple (x,y) returns (y,x).\n",
    "This can be done by writing the output of the function as a tuple, where the first element is the second element of the input and the other, the second element of the input.\n",
    "\n",
    "Note that the parentheses `(` and `)` indicate a tuple."
   ]
  },
  {
   "cell_type": "code",
   "execution_count": null,
   "metadata": {
    "collapsed": true,
    "deletable": true,
    "editable": true
   },
   "outputs": [],
   "source": [
    "# the parentheses ( and ) indicate that the output is a tuple \n",
    "# x[1] is the second element of the input, x[0] the first\n",
    "\n",
    "f = lambda x: (x[1], x[0])\n",
    "\n",
    "# let's create a simple tuple\n",
    "ttup = ('a','b')\n",
    "\n",
    "# and call the function\n",
    "f(ttup)"
   ]
  },
  {
   "cell_type": "markdown",
   "metadata": {
    "deletable": true,
    "editable": true
   },
   "source": [
    "## Exercise 8\n",
    "Write a lambda function taking the following tuple as its argument:\n",
    "\n",
    "```\n",
    "('Jan', 'Jansen', 1234, 'Rozengracht', 'Amsterdam')\n",
    "```\n",
    "\n",
    "and reformats this tuple as follows:\n",
    "\n",
    "```\n",
    "(1234, ('Jan', 'Jansen', 'Rozengracht', 'Amsterdam'))\n",
    "```"
   ]
  },
  {
   "cell_type": "code",
   "execution_count": null,
   "metadata": {
    "collapsed": true,
    "deletable": true,
    "editable": true
   },
   "outputs": [],
   "source": [
    "t = ('Jan', 'Jansen', 1234, 'Rozengracht', 'Amsterdam')\n",
    "\n",
    "f = lambda x: <FILL IN>\n",
    "\n",
    "f(t)               \n",
    "\n",
    "# Output should be\n",
    "# (1234, ('Jan', 'Jansen', 'Rozengracht', 'Amsterdam'))"
   ]
  },
  {
   "cell_type": "markdown",
   "metadata": {
    "deletable": true,
    "editable": true
   },
   "source": [
    "## Map and Reduce\n",
    "\n",
    "Functions are very important to both MapReduce and Spark. To see why let us look at a function called `map`, which is part of Python.\n",
    "\n",
    "`map` is a function which takes two arguments, a function and a list. `map` applies the function (its first argument) to every element of the list (its second argument).\n",
    "\n",
    "In the next cell we show how this works.\n",
    "We define a list called `celsius` which contains a number of temperature measurements in degrees Celsius. We are going to convert this list to degrees Fahrenheit.\n",
    "\n",
    "For this we write a function that will convert a single degree Celsius into Fahrenheit. We then call `map` to apply this function to all elements of the list `celsius`.\n",
    "\n",
    "*Note*: instead of returning a list, `map` returns an _iterator_ object. To convert an iterator into a list, we use the builtin `list` function. "
   ]
  },
  {
   "cell_type": "code",
   "execution_count": null,
   "metadata": {
    "collapsed": true,
    "deletable": true,
    "editable": true
   },
   "outputs": [],
   "source": [
    "# A list of temperature measures in degrees Celsius\n",
    "celsius = [39.2, 36.5, 37.3, 37.8]\n",
    "\n",
    "# A lambda function defining the conversion from a degree in Celsius to one in Fahrenheit\n",
    "convert = lambda x: (9 / 5) * x + 32\n",
    "\n",
    "# By using map we apply the function to every element of the list celsius\n",
    "fahrenheit = list(map(convert, celsius))\n",
    "\n",
    "# We can do exactly the same by using the lambda expression inside the map statement directly\n",
    "# fahrenheit = map(lambda x: (float(9)/5)*x + 32, celsius)\n",
    "print(fahrenheit)"
   ]
  },
  {
   "cell_type": "markdown",
   "metadata": {
    "deletable": true,
    "editable": true
   },
   "source": [
    "We do not have to use lambda functions here. We can define the convert function using `def` and use the name of the function as the first argument for map. Let's see how this works:"
   ]
  },
  {
   "cell_type": "code",
   "execution_count": null,
   "metadata": {
    "collapsed": true,
    "deletable": true,
    "editable": true
   },
   "outputs": [],
   "source": [
    "# We define the same function as in the previous cell, now using def\n",
    "def convert_def(x):\n",
    "    fahr = (9 / 5) * x + 32\n",
    "    return fahr\n",
    "\n",
    "# Let's use it in map on the celsius list\n",
    "fahrenheit = list(map(convert_def, celsius))\n",
    "print(fahrenheit)"
   ]
  },
  {
   "cell_type": "markdown",
   "metadata": {
    "deletable": true,
    "editable": true
   },
   "source": [
    "This is conceptually very similar to Hadoop's Map as in MapReduce. But the Python version is not executed in parallel, as in Hadoop.\n",
    "\n",
    "Next, let us look at Reduce. Python also has a function called `reduce` which takes as its first argument a function, and as a second argument a list. The function has to have two arguments.\n",
    "\n",
    "`reduce` will then apply the function to the first two elements of the list and use this result together with the next item in the list to compute the next step. This procedure is repeated until the entire list is traversed.\n",
    "\n",
    "For example, suppose we want to add up all elements of the list `[47, 11, 42, 13]` then we write a function which will add up two integers, and we will call `reduce`. `reduce` will then proceed as depicted in the picture below:\n",
    "\n",
    "![python reduce](images/reduce.png)\n",
    "\n",
    "Note that this function `reduce` resembles Hadoop's Reduce. In Hadoop you have to supply the Mapper and Reducer classes with a program, in Python we can do this with functions.\n",
    "\n",
    "Spark works similar to Python in this regard. You have to write functions that you have feed into other functions, which will process data for you."
   ]
  },
  {
   "cell_type": "markdown",
   "metadata": {
    "deletable": true,
    "editable": true
   },
   "source": [
    "## Exercise 9\n",
    "As a final exercise, before we move to Spark, compute the mean of the Fahrenheit list using `reduce`."
   ]
  },
  {
   "cell_type": "code",
   "execution_count": null,
   "metadata": {
    "collapsed": true,
    "deletable": true,
    "editable": true
   },
   "outputs": [],
   "source": [
    "# TODO: Replace <FILL IN> with appropriate code\n",
    "from functools import reduce\n",
    "\n",
    "# First write a lambda function which adds up two elements\n",
    "sum_up = <FILL IN>\n",
    "\n",
    "# Use reduce to sum up the elements in fahrenheit\n",
    "total = reduce(<FILL IN>)\n",
    "\n",
    "# Divide total by the length of the list fahrenheit\n",
    "# Use the division operator /\n",
    "mean = total / len(fahrenheit)\n",
    "print('the mean temperature is: ' + str(mean))"
   ]
  },
  {
   "cell_type": "markdown",
   "metadata": {
    "deletable": true,
    "editable": true
   },
   "source": [
    "## Spark teaser"
   ]
  },
  {
   "cell_type": "markdown",
   "metadata": {
    "deletable": true,
    "editable": true
   },
   "source": [
    "To show you how similar the operations in Spark are to the functional Python version we will give you a teaser on how to do the Celsius to Fahrenheit conversion in Spark. For such a small example of course the overhead outweights the benefit of parallel processing.\n",
    "\n",
    "Instead of working on Python lists we will do our processing on Spark's data structure for collections called an _RDD_. RDDs will be explained later today. Comparing the following code to the earlier version we note:\n",
    "\n",
    "- The workflow is exactly the same.\n",
    "- We can even re-use the lambda functions.\n",
    "- But `map` and `reduce` are _methods_ of the RDD instead of Python _functions_.\n",
    "- Instead of the Python `len` function we use the `count` method."
   ]
  },
  {
   "cell_type": "code",
   "execution_count": null,
   "metadata": {
    "collapsed": true,
    "deletable": true,
    "editable": true
   },
   "outputs": [],
   "source": [
    "# Initialize Spark\n",
    "from pyspark import SparkContext, SparkConf\n",
    "\n",
    "if not 'sc' in globals(): # This 'trick' makes sure the SparkContext sc is initialized exactly once\n",
    "    conf = SparkConf().setMaster('local[*]')\n",
    "    sc = SparkContext(conf=conf)"
   ]
  },
  {
   "cell_type": "code",
   "execution_count": null,
   "metadata": {
    "collapsed": true,
    "deletable": true,
    "editable": true
   },
   "outputs": [],
   "source": [
    "# Distribute the celsius list\n",
    "celcius_rdd = sc.parallelize(celsius)\n",
    "\n",
    "# This part runs in parallel\n",
    "fahrenheit_rdd = celcius_rdd.map(convert)\n",
    "\n",
    "print('degrees in Fahrenheit: ' + str(fahrenheit_rdd.collect()))\n",
    "\n",
    "count = fahrenheit_rdd.count()\n",
    "mean = fahrenheit_rdd.reduce(sum_up) / count\n",
    "\n",
    "print('the mean temperature is: ' + str(mean))"
   ]
  },
  {
   "cell_type": "code",
   "execution_count": null,
   "metadata": {
    "collapsed": true,
    "deletable": true,
    "editable": true
   },
   "outputs": [],
   "source": []
  }
 ],
 "metadata": {
  "kernelspec": {
   "display_name": "Python 3",
   "language": "python",
   "name": "python3"
  },
  "language_info": {
   "codemirror_mode": {
    "name": "ipython",
    "version": 3
   },
   "file_extension": ".py",
   "mimetype": "text/x-python",
   "name": "python",
   "nbconvert_exporter": "python",
   "pygments_lexer": "ipython3",
   "version": "3.5.2"
  }
 },
 "nbformat": 4,
 "nbformat_minor": 1
}
